{
 "cells": [
  {
   "cell_type": "markdown",
   "metadata": {},
   "source": [
    "# Neural Network from scratch on NumPy and SciPy\n",
    "\n",
    "This notebook is my record keeping of my neural network implementation practice in python.\n",
    "In order to understand the concept fully, no machine libraries such as TensorFlow / Keras are used.\n",
    "It is based on Coursera's Machine Learning Course, by Stanford University, Professor Andrew Ng.\n",
    "Link to the course: https://www.coursera.org/learn/machine-learning \n",
    "\n",
    "**(jupyter notebook markdown syntax cheat sheet: http://datascience.ibm.com/blog/markdown-for-jupyter-notebooks-cheatsheet/ )**\n",
    "\n",
    "__*Tools/Dataset that I've used in this practice...*__\n",
    "\n",
    "-  *Fashion MNIST dataset: a MNIST-like fashion product image dataset*\n",
    "    -  for more details... https://research.zalando.com/welcome/mission/research-projects/fashion-mnist/ \n",
    "-  *Python Libraries*\n",
    "    -  Numpy: matrices calculation\n",
    "    -  SciPy: optimization algorithm\n",
    "    -  Pandas: data preprocessing\n",
    "    -  Matplotlib: for graph and data visualization\n",
    "    \n",
    "    \n",
    "    \n",
    "**Table of contents**\n",
    "\n",
    "**1. Neural Networks**\n",
    "    1. Visualizing the data\n",
    "    2. Model Representation\n",
    "    3. Feedforward and cost funciton\n",
    "    4. Regularized cost function\n",
    "**2. Backpropagation**\n",
    "    1. Sigmoid gradient\n",
    "    2. Random initialization\n",
    "    3. Backpropagation\n",
    "    4. Gradient Checking\n",
    "    5. Regularized Neural Networks\n",
    "    6. Learning paramters\n",
    "**3. Visualizing the hidden layer**\n",
    "\n",
    "**The program is composed of 4 .py files:**\n",
    "1. NN.py: the main script, it'll call necessary functions for neural network\n",
    "2. functions: script that includes all the functions/calculations needed for Neural Network, such as sigmoid, cost function etc..\n",
    "3. ac.py: measures the model's accuracy \n",
    "4. fashion_data_import.py: import and preprocess the datasets\n"
   ]
  },
  {
   "cell_type": "markdown",
   "metadata": {},
   "source": [
    "## What the heck is Neural Network??\n",
    "\n",
    "_Neural Network_ is...:\n",
    "-  One of the machine learining algorithms popularly used today\n",
    "-  Used at IT giants such as Googole, Facebook, etc..\n",
    "-  It is well suited algorithm for pattern recognition, "
   ]
  }
 ],
 "metadata": {
  "kernelspec": {
   "display_name": "Python 3",
   "language": "python",
   "name": "python3"
  },
  "language_info": {
   "codemirror_mode": {
    "name": "ipython",
    "version": 3
   },
   "file_extension": ".py",
   "mimetype": "text/x-python",
   "name": "python",
   "nbconvert_exporter": "python",
   "pygments_lexer": "ipython3",
   "version": "3.6.0"
  }
 },
 "nbformat": 4,
 "nbformat_minor": 2
}
