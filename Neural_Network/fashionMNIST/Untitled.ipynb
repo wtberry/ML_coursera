{
 "cells": [
  {
   "cell_type": "markdown",
   "metadata": {},
   "source": [
    "## Outline on what to cover for NN notebook\n",
    "\n",
    "**List of topics**\n",
    "\n",
    "1. Table of contents\n",
    "2. stuff from the pdf\n",
    "3. deviding into each functions, such as \n",
    "    -  sigmoid\n",
    "    -  sigmoidGradient\n",
    "    -  cost function\n",
    "        -  foward and back propagations\n",
    "    - predict and accuracy\n",
    "    -  **make sure to provide math background and intuitions as well, so I can look over it after to remember it!**\n",
    "    - use LateX notations to embed equations beautifully"
   ]
  }
 ],
 "metadata": {
  "kernelspec": {
   "display_name": "Python 3",
   "language": "python",
   "name": "python3"
  },
  "language_info": {
   "codemirror_mode": {
    "name": "ipython",
    "version": 3
   },
   "file_extension": ".py",
   "mimetype": "text/x-python",
   "name": "python",
   "nbconvert_exporter": "python",
   "pygments_lexer": "ipython3",
   "version": "3.6.0"
  }
 },
 "nbformat": 4,
 "nbformat_minor": 2
}
