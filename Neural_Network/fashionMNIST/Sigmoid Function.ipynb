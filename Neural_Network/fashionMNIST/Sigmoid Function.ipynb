{
 "cells": [
  {
   "cell_type": "markdown",
   "metadata": {},
   "source": [
    "## What is sigmoid function??\n",
    "\n",
    "*Latex help: http://jupyter-notebook.readthedocs.io/en/latest/examples/Notebook/Typesetting%20Equations.html *\n",
    "\n",
    "[find a numpy tutorial](https://link/to/the/site.com)\n",
    "\n",
    "It is a function, that takes in weight sum as arguments, and output value between 0-1 as probability. \n",
    "On classification problem, output is a probability of the example belonging to one category.\n",
    "\n",
    "### Definition of sigmoid function\n",
    "Sigmoid function is defined as:\n",
    "$$g(z)=\\frac{1}{1+e^{-z}}$$\n",
    "\n",
    "where $z$ is weight sum, which is equal to:\n",
    "$$z=X^tW$$\n",
    "\n",
    "1. $X$ is a matrix of size $(m, n)$ containing features of examples, where\n",
    "    - $m$ is number of the examples(data points) in the dataset, and \n",
    "    - $n$ is number of features in the dataset.\n",
    "    \n",
    "    \n",
    "2. $W$ is a matrix containing *weights*, which are updatable values in the algorithm. The algorithm updates this variable based on the value of cost, in order to *learn* from training dataset.\n",
    "<br><br>\n",
    "\n",
    "### Implementation of Sigmoid function\n",
    "\n",
    "Now, we understand how sigmoid function works, let's take a look at implementation.\n",
    "\n",
    "We'll go over basic python implementation of sigmoid function. A library called 'SciPy' has function for sigmoid, which is highly optimized, but for the sake of understanding the sigmoid function, we'll go over pure python implementation.\n",
    "\n",
    "\\*In next section, we'll take a look at SciPy implementation for Neural Network application.\n",
    "\n",
    "First, I imported _NumPy_ for matrix calculation, \n",
    "and _matplotlib_ for graphing"
   ]
  },
  {
   "cell_type": "code",
   "execution_count": 4,
   "metadata": {},
   "outputs": [],
   "source": [
    "import matplotlib.pyplot as plt\n",
    "import numpy as np\n",
    "\n",
    "## defining sigmoid function\n",
    "sigmoid = lambda x: 1/(1+np.exp(-x)) "
   ]
  },
  {
   "cell_type": "markdown",
   "metadata": {},
   "source": [
    "#### Libraries used here\n",
    "1. NumPy: efficient matrix calculations, it'd be pain to use for-loop \n",
    "[NumPy](http://www.numpy.org/)\n",
    "2. matplotlib: graphing tool for python\n",
    "[matplotlib](http://matplotlib.org/)"
   ]
  },
  {
   "cell_type": "code",
   "execution_count": 5,
   "metadata": {},
   "outputs": [],
   "source": [
    "# x values to plugin into the function\n",
    "x = np.linspace(-10, 10, 100)\n",
    "y = np.linspace(-10, 10, 100)"
   ]
  },
  {
   "cell_type": "markdown",
   "metadata": {},
   "source": [
    "#### Numpy Linspace\n",
    "It outputs arrays of numbers in inputted range.\n",
    "For example..."
   ]
  },
  {
   "cell_type": "markdown",
   "metadata": {},
   "source": [
    "```python\n",
    "import numpy as np\n",
    "x = np.linespace(start_number, end_number, steps)```\n",
    "Steps are # of numbers in the range. Here we set it equal to 100. \n",
    "So there'll be 100 points between -10 and 10\n",
    "\n",
    "[_Code syntax highlighting help_](https://github.com/adam-p/markdown-here/wiki/Markdown-Cheatsheet#code)"
   ]
  },
  {
   "cell_type": "code",
   "execution_count": 9,
   "metadata": {},
   "outputs": [
    {
     "data": {
      "image/png": "[encoded data removed]",
      "text/plain": [
       "<matplotlib.figure.Figure at 0x7fe8f3017f98>"
      ]
     },
     "metadata": {},
     "output_type": "display_data"
    }
   ],
   "source": [
    "# create the plot\n",
    "plt.plot(x, sigmoid(x))\n",
    "\n",
    "# Show grid\n",
    "plt.grid(True)\n",
    "\n",
    "# Define x, y labels and title\n",
    "plt.xlabel('X Axis')\n",
    "plt.ylabel('Y Axis')\n",
    "plt.title('Sigmoid function')\n",
    "\n",
    "plt.text(4,0.8,r'$\\sigma(x)=\\frac{1}{1+e^{-x}}$',fontsize=15)\n",
    "\n",
    "# Show'em what you got\n",
    "plt.show()\n",
    "\n"
   ]
  },
  {
   "cell_type": "markdown",
   "metadata": {},
   "source": [
    "You can see that it is plotted correctly. \n",
    "Note that np.e() equal to.. $e^{()}$\n",
    "\n",
    "Sigmoid function's value is closer to 1 if value of $z$ is higher, and\n",
    "closer to 0 if $z$ is lower."
   ]
  },
  {
   "cell_type": "markdown",
   "metadata": {},
   "source": [
    "### Implementation for the Neural Network by SciPy\n",
    "For the above example, sigmoid function was implemented using numpy. It works fine, but it's better to use build-in sigmoid function from SciPy, because..\n",
    "- It can handle \"division by zero\", as well as runtime overflow error,\n",
    "- highly optimized, and\n",
    "- Fewer lines of code!"
   ]
  },
  {
   "cell_type": "code",
   "execution_count": 2,
   "metadata": {},
   "outputs": [],
   "source": [
    "## Import the library first\n",
    "from scipy import special as sp\n",
    "\n",
    "# Now, we define functtion and return value\n",
    "def scipy_sigmoid(z):\n",
    "    '''Returns sigmoid function value by using scipy'''\n",
    "    ## Using SciPy, we can write sigmoid function in 1 line of code!\n",
    "    return sp.expit(z)"
   ]
  },
  {
   "cell_type": "markdown",
   "metadata": {},
   "source": [
    "#### Let's check if it's really working, by plotting the graph.\n",
    "\n",
    "We'll do it in a similar way from the prior graphing example."
   ]
  },
  {
   "cell_type": "code",
   "execution_count": 3,
   "metadata": {},
   "outputs": [
    {
     "data": {
      "image/png": "[encoded data removed]",
      "text/plain": [
       "<matplotlib.figure.Figure at 0x7fcde4d12518>"
      ]
     },
     "metadata": {},
     "output_type": "display_data"
    }
   ],
   "source": [
    "import matplotlib.pyplot as plt # plotting library\n",
    "import numpy as np # matrix calculation\n",
    "\n",
    "# x values to plugin into the function\n",
    "x = np.linspace(-10, 10, 100)\n",
    "y = np.linspace(-10, 10, 100)\n",
    "\n",
    "# create the plot\n",
    "plt.plot(x, scipy_sigmoid(x))\n",
    "\n",
    "# Show grid\n",
    "plt.grid(True)\n",
    "\n",
    "# Define x, y labels and title\n",
    "plt.xlabel('X Axis')\n",
    "plt.ylabel('Y Axis')\n",
    "plt.title('SciPy Sigmoid function')\n",
    "\n",
    "plt.text(4,0.8,r'$\\sigma(x)=\\frac{1}{1+e^{-x}}$',fontsize=15)\n",
    "\n",
    "# Show'em what you got\n",
    "plt.show()\n"
   ]
  },
  {
   "cell_type": "markdown",
   "metadata": {},
   "source": [
    "### Conclusion\n",
    "1. sigmoid function output values between 0-1.\n",
    "2. it's interpreted as probability of the datapoint belonging to one category if it's classification problem\n",
    "> e.g. An image has 0.99 probability of dog vs 0.1 probability of cat, if we're classifiying images of dogs and cats\n",
    "3. it looks like the graph above.\n",
    "\n",
    "#### Next topic will be on Cost function and foward/back propagation."
   ]
  }
 ],
 "metadata": {
  "kernelspec": {
   "display_name": "Python 3",
   "language": "python",
   "name": "python3"
  },
  "language_info": {
   "codemirror_mode": {
    "name": "ipython",
    "version": 3
   },
   "file_extension": ".py",
   "mimetype": "text/x-python",
   "name": "python",
   "nbconvert_exporter": "python",
   "pygments_lexer": "ipython3",
   "version": "3.6.0"
  }
 },
 "nbformat": 4,
 "nbformat_minor": 2
}
